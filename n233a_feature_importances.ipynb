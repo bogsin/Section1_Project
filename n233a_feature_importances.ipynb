{
  "cells": [
    {
      "cell_type": "markdown",
      "metadata": {
        "id": "view-in-github",
        "colab_type": "text"
      },
      "source": [
        "<a href=\"https://colab.research.google.com/github/bogsin/Section1_Project/blob/main/n233a_feature_importances.ipynb\" target=\"_parent\"><img src=\"https://colab.research.google.com/assets/colab-badge.svg\" alt=\"Open In Colab\"/></a>"
      ]
    },
    {
      "cell_type": "markdown",
      "source": [
        "<img align=\"right\" src=\"https://ds-cs-images.s3.ap-northeast-2.amazonaws.com/Codestates_Fulllogo_Color.png\" width=100>\n",
        "\n",
        "## *AIB / SECTION 2 / SPRINT 3 / NOTE 3*\n",
        "\n",
        "# 📝 Assignment\n",
        "---\n",
        "# Feature Importances"
      ],
      "metadata": {
        "id": "nCc3XZEyG3XV"
      }
    },
    {
      "cell_type": "markdown",
      "source": [
        "### 1) 지속적으로 포트폴리오 프로젝트를 수행하세요\n",
        "- 지속적으로 데이터를 랭글링 하고 추가적인 시각화 결과를 만드세요\n",
        "- 작성한 코드마다 적절한 코멘트를 추가하세요\n",
        "- 모델을 학습시키고 베이스라인 모델과 비교해 보세요\n",
        "- **(Urclass Quiz) 본인의 프로젝트의 베이스라인 모델이 무엇인지 한 문장으로 설명해 보세요.** "
      ],
      "metadata": {
        "id": "GYXIvObIwsyn"
      }
    },
    {
      "cell_type": "code",
      "execution_count": null,
      "source": [
        "### 이곳에서 과제를 진행해 주세요 ###"
      ],
      "outputs": [],
      "metadata": {
        "id": "v9xrwWm0wsyo"
      }
    },
    {
      "cell_type": "markdown",
      "source": [
        "### 2) Xgboost를 사용해 학습하고 기존 모델과 비교해 보세요.\n",
        "- 본인 포트폴리오 데이터를 Xgboost로 학습하여 기존에 만들었던 모델과 비교해 봅니다. 성능은 더 좋아질수도 아닐수도 있습니다. \n",
        "- **(Urclass Quiz) breast cancer 데이터를 Xgboost로 학습하고 f1 score를 제출하세요.(test 데이터에서 0.95이상)**"
      ],
      "metadata": {
        "id": "lVVJyrXFwsyp"
      }
    },
    {
      "cell_type": "code",
      "execution_count": null,
      "source": [
        "### (본인 포트폴리오 과제) 이곳에서 과제를 진행해 주세요 ### "
      ],
      "outputs": [],
      "metadata": {
        "id": "CNtzyvMgwsyq"
      }
    },
    {
      "cell_type": "code",
      "execution_count": null,
      "source": [
        "### (Urclass Quiz) 이곳에서 과제를 진행해 주세요 ###\n",
        "\n",
        "import pandas as pd\n",
        "import numpy as np\n",
        "from sklearn.model_selection import train_test_split\n",
        "from sklearn.datasets import load_breast_cancer \n",
        "\n",
        "cancer_dataset = load_breast_cancer()\n",
        "\n",
        "features = cancer_dataset.data\n",
        "target = cancer_dataset.target\n",
        "df = pd.DataFrame(data=features, columns=cancer_dataset.feature_names)\n",
        "df['target'] = target\n",
        "\n",
        "X_train, X_test, y_train, y_test = train_test_split(features, target, test_size=0.2, random_state=2)\n",
        "print(X_train.shape, X_test.shape)"
      ],
      "outputs": [],
      "metadata": {
        "id": "fWuuiE6Dwsyq"
      }
    },
    {
      "cell_type": "markdown",
      "source": [
        "### 3) Permutation importances를 계산하고 다른 중요도 결과와 비교해 보세요\n",
        "- 본인 포트폴리오 데이터를 사용해 만든 모델의 Permutation importances를 계산해 보세요.\n",
        "- **(Urclass Quiz) breast cancer 데이터를 사용해 만든 모델의 Permutation importances를 계산하고 가장 높은 값을 가지는 특성의 이름을 제출하세요.**\n",
        "    - eli5 PermutationImportance 사용\n",
        "    - scoring = 'accuracy'\n",
        "    - n_iter = 5\n",
        "    - random_state = 2"
      ],
      "metadata": {
        "id": "doJ5_3eiwsyr"
      }
    },
    {
      "cell_type": "code",
      "execution_count": null,
      "source": [
        "### (본인 포트폴리오 과제) 이곳에서 과제를 진행해 주세요 ### "
      ],
      "outputs": [],
      "metadata": {
        "id": "nAyndkibwsys"
      }
    },
    {
      "cell_type": "code",
      "execution_count": null,
      "source": [
        "### (Urclass Quiz) 이곳에서 과제를 진행해 주세요 ###\n",
        "\n",
        "import eli5\n",
        "from eli5.sklearn import PermutationImportance\n"
      ],
      "outputs": [],
      "metadata": {
        "id": "0BAQXL8Zwsys"
      }
    },
    {
      "cell_type": "markdown",
      "source": [
        "## 🔥 도전과제(Github - Discussion)"
      ],
      "metadata": {
        "id": "c6BaJYitwsyt"
      }
    },
    {
      "cell_type": "markdown",
      "source": [
        "### 1. 특성 중요도를 계산하는 방법의 장단점을 설명하고 각각 어떤 상황에 사용하면 좋을지 설명해 보세요\n",
        "\n",
        "### 2. bagging과 boosting의 차이점과 각각 어떤 알고리즘 종류들이 있는지 알고리즘별 장단점을 설명하고, 어떤 상황에서 사용하면 좋을지 논의해 보세요.\n"
      ],
      "metadata": {
        "id": "gXbPY6wjwsyu"
      }
    },
    {
      "cell_type": "code",
      "execution_count": null,
      "source": [
        "### 이곳에서 과제를 진행해 주세요 ### "
      ],
      "outputs": [],
      "metadata": {
        "id": "zkkIw5Gawsyu"
      }
    }
  ],
  "metadata": {
    "kernelspec": {
      "display_name": "Python 3",
      "language": "python",
      "name": "python3"
    },
    "language_info": {
      "codemirror_mode": {
        "name": "ipython",
        "version": 3
      },
      "file_extension": ".py",
      "mimetype": "text/x-python",
      "name": "python",
      "nbconvert_exporter": "python",
      "pygments_lexer": "ipython3",
      "version": "3.7.7"
    },
    "colab": {
      "name": "n233a-feature-importances.ipynb",
      "provenance": [],
      "include_colab_link": true
    }
  },
  "nbformat": 4,
  "nbformat_minor": 0
}